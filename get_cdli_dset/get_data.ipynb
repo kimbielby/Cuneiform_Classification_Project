{
 "cells": [
  {
   "cell_type": "code",
   "id": "initial_id",
   "metadata": {
    "collapsed": true
   },
   "source": [
    "import numpy as np\n",
    "import pandas as pd\n",
    "from PIL import Image\n",
    "from get_cdli_images import get_images\n",
    "from ast import literal_eval\n",
    "import os\n",
    "from Utils import *"
   ],
   "outputs": [],
   "execution_count": null
  },
  {
   "metadata": {},
   "cell_type": "markdown",
   "source": "Pick a collection",
   "id": "dc93eba474aac8a0"
  },
  {
   "metadata": {},
   "cell_type": "code",
   "source": "selected_collection = \"test\"",
   "id": "11490b175d1d6a83",
   "outputs": [],
   "execution_count": null
  },
  {
   "metadata": {},
   "cell_type": "code",
   "source": [
    "# read csv file\n",
    "seg_df = pd.read_csv(f'../data/segments/all_tablet_segments.csv')\n",
    "# convert bbox to np array\n",
    "seg_df.bbox = seg_df.bbox.apply(literal_eval).apply(np.array)\n",
    "# remove unassigned segments\n",
    "seg_df = seg_df[seg_df.assigned]\n",
    "# show first few entries\n",
    "seg_df"
   ],
   "id": "ddbf95d5dd7a143a",
   "outputs": [],
   "execution_count": null
  },
  {
   "metadata": {},
   "cell_type": "markdown",
   "source": "Pick a tablet",
   "id": "d4d8b2c028a34384"
  },
  {
   "metadata": {},
   "cell_type": "code",
   "source": [
    "selected_cdli = \"P335608\"\n",
    "# If selected cdli is in seg_df then slice it\n",
    "seg_df_slice = seg_df[seg_df.tablet_CDLI.isin([selected_cdli])]\n",
    "seg_df_slice"
   ],
   "id": "7bd14f0ffec7e9ff",
   "outputs": [],
   "execution_count": null
  },
  {
   "metadata": {},
   "cell_type": "code",
   "source": "seg_df_slice.segm_idx",
   "id": "c60115ba60b9b0c3",
   "outputs": [],
   "execution_count": null
  },
  {
   "metadata": {},
   "cell_type": "markdown",
   "source": "Load corresponding bounding box annotations",
   "id": "432e49996a13ebf7"
  },
  {
   "metadata": {},
   "cell_type": "code",
   "source": [
    "annotations_df = pd.read_csv(f\"../data/annotations/all_bbox_annotations.csv\")\n",
    "annotations_df.relative_bbox = annotations_df.relative_bbox.apply(literal_eval).apply(np.array)"
   ],
   "id": "ac237276f6ac678a",
   "outputs": [],
   "execution_count": null
  },
  {
   "metadata": {},
   "cell_type": "code",
   "source": [
    "annotations_df_slice = annotations_df[annotations_df.tablet_CDLI == selected_cdli]\n",
    "annotations_df_slice.head()"
   ],
   "id": "dca31aa5d6b5a485",
   "outputs": [],
   "execution_count": null
  },
  {
   "metadata": {},
   "cell_type": "code",
   "source": "annotations_df_slice[\"view_desc\"].value_counts()",
   "id": "aed914f400013db6",
   "outputs": [],
   "execution_count": null
  },
  {
   "metadata": {},
   "cell_type": "markdown",
   "source": "Load line annotations",
   "id": "5bff71f70e5cb63a"
  },
  {
   "metadata": {},
   "cell_type": "code",
   "source": [
    "line_df = pd.read_csv(f\"../data/annotations/all_line_annotations.csv\")\n",
    "line_df.head()"
   ],
   "id": "e60599236ec7938",
   "outputs": [],
   "execution_count": null
  },
  {
   "metadata": {},
   "cell_type": "code",
   "source": "len(line_df)",
   "id": "6e3351efcce4ffc4",
   "outputs": [],
   "execution_count": null
  },
  {
   "metadata": {},
   "cell_type": "code",
   "source": [
    "line_df.drop_duplicates()\n",
    "len(line_df)"
   ],
   "id": "a2f2d726f6a99354",
   "outputs": [],
   "execution_count": null
  },
  {
   "metadata": {},
   "cell_type": "markdown",
   "source": "Load composite image from CDLI",
   "id": "e4f5a909bd74ae14"
  },
  {
   "metadata": {},
   "cell_type": "code",
   "source": [
    "top_dir = \"../data/segments/\"\n",
    "base_url = \"https://cdli.ucla.edu/dl/photo/\"\n",
    "save_dir = \"../data/images/all_images\""
   ],
   "id": "c540a627518d35e3",
   "outputs": [],
   "execution_count": null
  },
  {
   "metadata": {},
   "cell_type": "code",
   "source": "full_df = get_images(top_dir=top_dir, base_url=base_url, save_dir=save_dir)\n",
   "id": "c597c05b0e9cf109",
   "outputs": [],
   "execution_count": null
  },
  {
   "metadata": {},
   "cell_type": "code",
   "source": [
    "img = Image.open(f\"../data/images/all_images/{selected_cdli}.jpg\")\n",
    "display_basic_image(img=img)"
   ],
   "id": "6d178dace9679dbe",
   "outputs": [],
   "execution_count": null
  },
  {
   "metadata": {},
   "cell_type": "markdown",
   "source": "Get remaining cdli",
   "id": "4f7547274d6ca6b9"
  },
  {
   "metadata": {},
   "cell_type": "code",
   "source": [
    "img_top_dir = \"../data/images/all_images\"\n",
    "file_path = \"../data/segments/all_tablet_segments.csv\""
   ],
   "id": "51f662b950543179",
   "outputs": [],
   "execution_count": null
  },
  {
   "metadata": {},
   "cell_type": "code",
   "source": [
    "# Read in big segments csv\n",
    "big_segments_df = pd.read_csv(file_path)\n",
    "# Get list of unique cdli numbers\n",
    "# unique_cdli = big_segments_df[\"tablet_CDLI\"].drop_duplicates().tolist()\n",
    "# Get image filenames in all images\n",
    "all_img_name_list = get_filepaths(dir_name=img_top_dir)"
   ],
   "id": "7f47e3b9d5a9557c",
   "outputs": [],
   "execution_count": null
  },
  {
   "metadata": {},
   "cell_type": "code",
   "source": [
    "# Normalise\n",
    "all_img_name_set = {os.path.splitext(f.strip())[0] for f in all_img_name_list}\n"
   ],
   "id": "8d8af293475fd7be",
   "outputs": [],
   "execution_count": null
  },
  {
   "metadata": {},
   "cell_type": "code",
   "source": [
    "bool_mask = ~big_segments_df['tablet_CDLI'].isin(all_img_name_set)\n",
    "remaining_cdli = big_segments_df[bool_mask]"
   ],
   "id": "29e39ff8b1148940",
   "outputs": [],
   "execution_count": null
  },
  {
   "metadata": {},
   "cell_type": "code",
   "source": "remaining_cdli['tablet_CDLI'].drop_duplicates()",
   "id": "3b9daba0a8e0fce2",
   "outputs": [],
   "execution_count": null
  },
  {
   "metadata": {},
   "cell_type": "markdown",
   "source": "Visualise segments",
   "id": "724eb8de18623dee"
  },
  {
   "metadata": {},
   "cell_type": "code",
   "source": "visualise_segments(seg_df_slice=seg_df_slice, pil_img=img)",
   "id": "c3b3723ab458fd2f",
   "outputs": [],
   "execution_count": null
  },
  {
   "metadata": {},
   "cell_type": "markdown",
   "source": "Visualise Bounding Boxes",
   "id": "445cd8665b3d6ba8"
  },
  {
   "metadata": {},
   "cell_type": "code",
   "source": "visualise_segments(seg_df_slice=seg_df_slice, pil_img=img, bbox=True, annot_df_slice=annotations_df_slice)\n",
   "id": "35f96cad9f86e049",
   "outputs": [],
   "execution_count": null
  },
  {
   "metadata": {},
   "cell_type": "markdown",
   "source": "Visualise line annotations",
   "id": "a765432ec3df5709"
  },
  {
   "metadata": {},
   "cell_type": "code",
   "source": "visualise_line_annotations(seg_df_slice=seg_df_slice, pil_img=img, line_df=line_df)",
   "id": "8b3403b60d87f9d2",
   "outputs": [],
   "execution_count": null
  }
 ],
 "metadata": {
  "kernelspec": {
   "display_name": "Python 3",
   "language": "python",
   "name": "python3"
  },
  "language_info": {
   "codemirror_mode": {
    "name": "ipython",
    "version": 2
   },
   "file_extension": ".py",
   "mimetype": "text/x-python",
   "name": "python",
   "nbconvert_exporter": "python",
   "pygments_lexer": "ipython2",
   "version": "2.7.6"
  }
 },
 "nbformat": 4,
 "nbformat_minor": 5
}
