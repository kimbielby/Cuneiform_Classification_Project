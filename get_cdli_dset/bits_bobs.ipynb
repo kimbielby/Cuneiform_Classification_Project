{
 "cells": [
  {
   "metadata": {},
   "cell_type": "code",
   "source": [
    "import numpy as np\n",
    "from Utils import *\n",
    "import pandas as pd\n",
    "from ast import literal_eval"
   ],
   "id": "150d6c4c93a864ac",
   "outputs": [],
   "execution_count": null
  },
  {
   "metadata": {},
   "cell_type": "markdown",
   "source": [
    "Save big segment df as one csv\n",
    "- segment index\n",
    "- tablet cdli number\n",
    "- assignment of view to the segments (e.g. obverse, reverse)\n",
    "- collection name\n",
    "- bbox annotation of the tablet segments in the composite image\n",
    "- estimated scale factor that aims for an average sign height of about 128 image pixels\n",
    "- assigned (whether there are signs?)"
   ],
   "id": "4005a29e031f78"
  },
  {
   "metadata": {},
   "cell_type": "code",
   "source": [
    "save_as_seg = \"../data/segments/all_tablet_segments.csv\"\n",
    "top_dir_seg = \"../data/segments/\"\n",
    "\n",
    "big_seg_df = read_in_csv(top_dir=top_dir_seg)\n",
    "big_seg_df.to_csv(save_as_seg, index=False)"
   ],
   "id": "150a22e3b959d2ff",
   "outputs": [],
   "execution_count": null
  },
  {
   "metadata": {},
   "cell_type": "markdown",
   "source": [
    "Save big bbox annotation df as one csv\n",
    "- segment index\n",
    "- tablet cdli number\n",
    "- assignment of view to the segments (e.g. obverse, reverse)\n",
    "- collection name\n",
    "- sign label according to MZL\n",
    "- sign label for machine learning according to mapping in label.json (don't have this file)\n",
    "- bbox annotation of the tablet segments in the composite image\n",
    "- bounding box coordinates relative to segment bbox and full composite image"
   ],
   "id": "7ea7488f24e02a50"
  },
  {
   "metadata": {},
   "cell_type": "code",
   "source": [
    "save_as_ann = \"../data/annotations/all_bbox_annotations.csv\"\n",
    "top_dir_ann = \"../data/annotations/\"\n",
    "search_term_bbox = \"bbox\"\n",
    "\n",
    "big_bbox_df = read_in_csv(top_dir=top_dir_ann, search_term=search_term_bbox)\n",
    "big_bbox_df.to_csv(save_as_ann, index=False)"
   ],
   "id": "9220af8db22bd4f8",
   "outputs": [],
   "execution_count": null
  },
  {
   "metadata": {},
   "cell_type": "markdown",
   "source": "Remove duplicate entries in all_bbox_annotations",
   "id": "1cba047bf5ae128f"
  },
  {
   "metadata": {},
   "cell_type": "code",
   "source": [
    "all_ann_path = \"../data/annotations/all_bbox_annotations.csv\"\n",
    "all_ann_df = pd.read_csv(all_ann_path)\n",
    "all_ann_df = all_ann_df.drop_duplicates()\n",
    "all_ann_df.to_csv(all_ann_path, index=False)"
   ],
   "id": "34897f706241d4aa",
   "outputs": [],
   "execution_count": null
  },
  {
   "metadata": {},
   "cell_type": "markdown",
   "source": [
    "Save big line annotation df as one csv\n",
    "- line index identifies the points belonging to a line (lines can consist of one or several connected segments)\n",
    "- lines that are defined by the start and end points of segments with (x,y) coords\n",
    "- segment index\n",
    "- tablet cdli number"
   ],
   "id": "3ca09a2d05fc456c"
  },
  {
   "metadata": {},
   "cell_type": "code",
   "source": [
    "save_as_line = \"../data/annotations/all_line_annotations.csv\"\n",
    "top_dir_line = \"../data/annotations/\"\n",
    "search_term_line = \"line\"\n",
    "\n",
    "big_line_df = read_in_csv(top_dir=top_dir_line, search_term=search_term_line)\n",
    "big_line_df.to_csv(save_as_line, index=False)"
   ],
   "id": "4e50e5ba1565b4ff",
   "outputs": [],
   "execution_count": null
  },
  {
   "metadata": {},
   "cell_type": "markdown",
   "source": [
    "Save big transliteration df as one csv\n",
    "- segment index\n",
    "- tablet cdli number\n",
    "- assignment of view to the segments (e.g. obverse, reverse)\n",
    "- line by line cuneified transliteration (additional information available in a translation was removed)\n",
    "- entries are indexed by line and position in line\n",
    "- sign label for machine learning according to mapping in label.json\n",
    "- sign label according to MZL\n",
    "- status (?)"
   ],
   "id": "bfa3d0aff56c9e28"
  },
  {
   "metadata": {},
   "cell_type": "code",
   "source": [
    "save_as_trans = \"../data/transliterations/all_transliterations.csv\"\n",
    "top_dir_trans = \"../data/transliterations/\"\n",
    "\n",
    "big_trans_df = read_in_csv(top_dir=top_dir_trans)\n",
    "big_trans_df.to_csv(save_as_trans, index=False)"
   ],
   "id": "d5f9bec7b3022722",
   "outputs": [],
   "execution_count": null
  },
  {
   "metadata": {},
   "cell_type": "markdown",
   "source": "Check quantities",
   "id": "209ca7645e781afe"
  },
  {
   "metadata": {},
   "cell_type": "code",
   "source": [
    "top_img_dir = \"../data/images/all_images\"\n",
    "bbox_df_path = \"../data/annotations/all_bbox_annotations.csv\"\n",
    "line_df_path = \"../data/annotations/all_line_annotations.csv\"\n",
    "\n",
    "img_name_list = get_filepaths(dir_name=top_img_dir)\n",
    "bbox_df = pd.read_csv(bbox_df_path)\n",
    "line_df = pd.read_csv(line_df_path)\n",
    "\n",
    "print(f\"The number of images is: {len(img_name_list)}\") # 2,190\n",
    "print(f\"The number of unique tablets in bbox is: {bbox_df['tablet_CDLI'].nunique()}\")   # 81\n",
    "print(f\"The number of unique tablets in line is: {line_df['tablet_CDLI'].nunique()}\")   # 36"
   ],
   "id": "1c7cde7fdbda9ecf",
   "outputs": [],
   "execution_count": null
  },
  {
   "metadata": {},
   "cell_type": "markdown",
   "source": "Check which tablets in bbox are not in segments",
   "id": "4ec0a82b1963d02e"
  },
  {
   "metadata": {},
   "cell_type": "code",
   "source": [
    "all_segs_path = \"../data/segments/all_tablet_segments.csv\"\n",
    "bbox_df_path = \"../data/annotations/all_bbox_annotations.csv\"\n",
    "\n",
    "bbox_df = pd.read_csv(bbox_df_path)\n",
    "all_segs_df = pd.read_csv(all_segs_path)\n",
    "\n",
    "bool_mask = ~bbox_df['tablet_CDLI'].isin(all_segs_df['tablet_CDLI'])\n",
    "extra_tablets = bbox_df[bool_mask]"
   ],
   "id": "fe433898e5912f59",
   "outputs": [],
   "execution_count": null
  },
  {
   "metadata": {},
   "cell_type": "markdown",
   "source": "Remove Unassigned entries from all tablet segments",
   "id": "635c4ea4d6c62cc4"
  },
  {
   "metadata": {},
   "cell_type": "code",
   "source": [
    "all_segs_path = \"../data/segments/all_tablet_segments.csv\"\n",
    "segs_df = pd.read_csv(all_segs_path)\n",
    "segs_df = segs_df[segs_df.assigned]\n",
    "segs_df.to_csv(all_segs_path, index=False)\n"
   ],
   "id": "2738ee8a4e98700a",
   "outputs": [],
   "execution_count": null
  },
  {
   "metadata": {},
   "cell_type": "markdown",
   "source": "Remove Annotations with no bounding box (segment is -1)",
   "id": "6e043c9b5c9b80ca"
  },
  {
   "metadata": {},
   "cell_type": "code",
   "source": [
    "all_annotations_path = \"../data/annotations/all_bbox_annotations.csv\"\n",
    "annotations_df = pd.read_csv(all_annotations_path)\n",
    "annotations_df = annotations_df[annotations_df.segm_idx != -1]\n",
    "annotations_df.to_csv(all_annotations_path, index=False)"
   ],
   "id": "5a0b2e32d8a215c5",
   "outputs": [],
   "execution_count": null
  },
  {
   "metadata": {},
   "cell_type": "markdown",
   "source": "Copy images from bbox csv into different folder",
   "id": "c26e69e3ee01c9fd"
  },
  {
   "metadata": {},
   "cell_type": "code",
   "source": [
    "bbox_df_path = \"../data/annotations/all_bbox_annotations.csv\"\n",
    "image_dir = \"../data/images/all_images\"\n",
    "save_dir = \"../data/images/viable_images\"\n",
    "\n",
    "bbox_df = pd.read_csv(bbox_df_path)\n",
    "unique_img_names = bbox_df['tablet_CDLI'].unique().tolist()\n",
    "\n",
    "copy_images(top_dir=image_dir, og_img_name_list=unique_img_names, save_dir=save_dir)\n"
   ],
   "id": "8f09d768aa1de969",
   "outputs": [],
   "execution_count": null
  },
  {
   "metadata": {},
   "cell_type": "markdown",
   "source": "Save Segments and bbox annotations",
   "id": "963a2e851288d687"
  },
  {
   "metadata": {},
   "cell_type": "code",
   "source": [
    "# Segmentations df\n",
    "seg_df_path = \"../data/segments/all_tablet_segments.csv\"\n",
    "seg_df = pd.read_csv(seg_df_path)\n",
    "seg_df.bbox = seg_df.bbox.apply(literal_eval).apply(np.array)\n",
    "\n",
    "# bbox Annotations df\n",
    "bbox_df_path = \"../data/annotations/all_bbox_annotations.csv\"\n",
    "bbox_df = pd.read_csv(bbox_df_path)\n",
    "bbox_df.relative_bbox = bbox_df.relative_bbox.apply(literal_eval).apply(np.array)\n",
    "\n",
    "# Full images\n",
    "img_dir = \"../data/images/viable_images\"\n",
    "filepaths = get_filepaths(dir_name=img_dir)\n",
    "\n",
    "# Save directories\n",
    "seg_save_path = \"../data/images/segments\"\n",
    "annot_save_path = \"../data/annotations/segment_bbox_annotations\"\n",
    "save_dirs = [seg_save_path, annot_save_path]\n",
    "\n",
    "# Call function\n",
    "save_segments_and_bboxes(img_top_dir=img_dir, og_seg_df=seg_df, og_bbox_df=bbox_df, save_dirs=save_dirs)\n"
   ],
   "id": "b51484b8cbecbdc3",
   "outputs": [],
   "execution_count": null
  },
  {
   "metadata": {},
   "cell_type": "markdown",
   "source": "Remove tablets from all_bbox_annotations that cannot be used",
   "id": "f5b7d38ad88839e1"
  },
  {
   "metadata": {},
   "cell_type": "code",
   "source": [
    "all_bbox_path = \"../data/annotations/all_bbox_annotations.csv\"\n",
    "seg_dir_path = \"../data/images/segments\"\n",
    "\n",
    "seg_img_names = get_filepaths(dir_name=seg_dir_path)\n",
    "df = pd.read_csv(all_bbox_path)\n",
    "\n",
    "df = df[(df.tablet_CDLI.str.cat(df.segm_idx.astype(str), sep='_') + '.jpg').isin(seg_img_names)]\n",
    "df.to_csv(all_bbox_path, index=False)"
   ],
   "id": "21c7a05a89db41ec",
   "outputs": [],
   "execution_count": null
  }
 ],
 "metadata": {
  "kernelspec": {
   "display_name": "Python 3",
   "language": "python",
   "name": "python3"
  },
  "language_info": {
   "codemirror_mode": {
    "name": "ipython",
    "version": 2
   },
   "file_extension": ".py",
   "mimetype": "text/x-python",
   "name": "python",
   "nbconvert_exporter": "python",
   "pygments_lexer": "ipython2",
   "version": "2.7.6"
  }
 },
 "nbformat": 4,
 "nbformat_minor": 5
}
