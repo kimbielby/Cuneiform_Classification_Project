{
 "cells": [
  {
   "cell_type": "code",
   "id": "initial_id",
   "metadata": {
    "collapsed": true
   },
   "source": [
    "import pandas as pd\n",
    "import numpy as np\n",
    "from ast import literal_eval\n",
    "from PIL import Image\n",
    "from Utils import *\n"
   ],
   "outputs": [],
   "execution_count": null
  },
  {
   "metadata": {},
   "cell_type": "code",
   "source": [
    "top_img_dir = \"../data/images/all_images\"\n",
    "bbox_df_path = \"../data/annotations/all_bbox_annotations.csv\"\n",
    "line_df_path = \"../data/annotations/all_line_annotations.csv\"\n",
    "segments_df_path = \"../data/segments/all_tablet_segments.csv\""
   ],
   "id": "76c79b63b8f37838",
   "outputs": [],
   "execution_count": null
  },
  {
   "metadata": {},
   "cell_type": "markdown",
   "source": "Segments",
   "id": "b54c6d03e0690e62"
  },
  {
   "metadata": {},
   "cell_type": "code",
   "source": [
    "# Read in csv\n",
    "seg_df = pd.read_csv(segments_df_path)\n",
    "# Convert bbox column to np array\n",
    "seg_df.bbox = seg_df.bbox.apply(literal_eval).apply(np.array)\n",
    "# Show first however many entries\n",
    "seg_df\n"
   ],
   "id": "2109b1de44d70bc4",
   "outputs": [],
   "execution_count": null
  },
  {
   "metadata": {},
   "cell_type": "markdown",
   "source": "BBOX Annotations",
   "id": "7d28b4757b4e213e"
  },
  {
   "metadata": {},
   "cell_type": "code",
   "source": [
    "# Read in csv\n",
    "annotations_df = pd.read_csv(bbox_df_path)\n",
    "# Convert relative_bbox column to np array\n",
    "annotations_df.relative_bbox = annotations_df.relative_bbox.apply(literal_eval).apply(np.array)\n",
    "annotations_df.head()"
   ],
   "id": "ae60532ecb86492",
   "outputs": [],
   "execution_count": null
  },
  {
   "metadata": {},
   "cell_type": "markdown",
   "source": "Line Annotations",
   "id": "6b1d16043ad6affd"
  },
  {
   "metadata": {},
   "cell_type": "code",
   "source": [
    "# Read in csv\n",
    "line_df = pd.read_csv(line_df_path)\n",
    "# Show first 5 entries\n",
    "line_df.head()"
   ],
   "id": "3766b68a90f7d528",
   "outputs": [],
   "execution_count": null
  },
  {
   "metadata": {},
   "cell_type": "markdown",
   "source": "Specific Tablet",
   "id": "4b63bc9955a931c0"
  },
  {
   "metadata": {},
   "cell_type": "code",
   "source": "specific_cdli = \"P337153\"",
   "id": "55bcebb0e7b27958",
   "outputs": [],
   "execution_count": null
  },
  {
   "metadata": {},
   "cell_type": "code",
   "source": [
    "seg_df_slice = seg_df[seg_df.tablet_CDLI == specific_cdli]\n",
    "seg_df_slice"
   ],
   "id": "24540b2bdc2dc80f",
   "outputs": [],
   "execution_count": null
  },
  {
   "metadata": {},
   "cell_type": "code",
   "source": [
    "annotations_df_slice = annotations_df[annotations_df.tablet_CDLI == specific_cdli]\n",
    "annotations_df_slice"
   ],
   "id": "b7c35d4e75c8b768",
   "outputs": [],
   "execution_count": null
  },
  {
   "metadata": {},
   "cell_type": "code",
   "source": [
    "line_df_slice = line_df[line_df.tablet_CDLI == specific_cdli]\n",
    "line_df_slice"
   ],
   "id": "29f964da74675592",
   "outputs": [],
   "execution_count": null
  },
  {
   "metadata": {},
   "cell_type": "markdown",
   "source": "Visualise Tablet",
   "id": "d0c18b7d62987e1f"
  },
  {
   "metadata": {},
   "cell_type": "code",
   "source": "img = Image.open(f\"../data/images/all_images/{specific_cdli}.jpg\")",
   "id": "dfb80494e1c3fee4",
   "outputs": [],
   "execution_count": null
  },
  {
   "metadata": {},
   "cell_type": "code",
   "source": "display_basic_image(img=img)",
   "id": "7bc6c59b14afba2c",
   "outputs": [],
   "execution_count": null
  },
  {
   "metadata": {},
   "cell_type": "markdown",
   "source": "Visualise Segments",
   "id": "49156d213a3414e1"
  },
  {
   "metadata": {},
   "cell_type": "code",
   "source": "visualise_segments(seg_df_slice=seg_df_slice, pil_img=img)",
   "id": "1f8f9612801e88a9",
   "outputs": [],
   "execution_count": null
  },
  {
   "metadata": {},
   "cell_type": "markdown",
   "source": "Visualise Bounding Boxes",
   "id": "cadc9009b2036541"
  },
  {
   "metadata": {},
   "cell_type": "code",
   "source": "visualise_segments(seg_df_slice=seg_df_slice, pil_img=img, annot_df_slice=annotations_df_slice)",
   "id": "69fc2e0160386dc0",
   "outputs": [],
   "execution_count": null
  },
  {
   "metadata": {},
   "cell_type": "markdown",
   "source": "Visualise Line Annotations",
   "id": "18da6c52aa88bfdd"
  },
  {
   "metadata": {},
   "cell_type": "code",
   "source": "visualise_line_annotations(seg_df_slice=seg_df_slice, pil_img=img, line_df=line_df_slice)",
   "id": "2f322c33d5546019",
   "outputs": [],
   "execution_count": null
  }
 ],
 "metadata": {
  "kernelspec": {
   "display_name": "Python 3",
   "language": "python",
   "name": "python3"
  },
  "language_info": {
   "codemirror_mode": {
    "name": "ipython",
    "version": 2
   },
   "file_extension": ".py",
   "mimetype": "text/x-python",
   "name": "python",
   "nbconvert_exporter": "python",
   "pygments_lexer": "ipython2",
   "version": "2.7.6"
  }
 },
 "nbformat": 4,
 "nbformat_minor": 5
}
