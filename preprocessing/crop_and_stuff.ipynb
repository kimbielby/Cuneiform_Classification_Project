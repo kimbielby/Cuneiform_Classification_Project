{
 "cells": [
  {
   "cell_type": "code",
   "id": "initial_id",
   "metadata": {
    "collapsed": true,
    "ExecuteTime": {
     "end_time": "2025-08-17T16:55:47.271918Z",
     "start_time": "2025-08-17T16:55:45.136201Z"
    }
   },
   "source": [
    "import cv2\n",
    "import numpy as np\n",
    "import pandas as pd\n",
    "from Utils import *\n",
    "from preprocessing.cropping import process_segments as pros"
   ],
   "outputs": [],
   "execution_count": 1
  },
  {
   "metadata": {
    "ExecuteTime": {
     "end_time": "2025-08-17T16:55:49.134275Z",
     "start_time": "2025-08-17T16:55:49.132706Z"
    }
   },
   "cell_type": "code",
   "source": [
    "top_img_seg_dir = \"../data/images/segments\"\n",
    "bbox_seg_df_dir = \"../data/annotations/segment_bbox_annotations\"\n",
    "save_as_dir = \"../data/images/cropped_images\"\n",
    "save_as_csv = \"../data/annotations/all_crop_bbox_annotations.csv\"\n"
   ],
   "id": "4dfb65580d71a608",
   "outputs": [],
   "execution_count": 2
  },
  {
   "metadata": {},
   "cell_type": "markdown",
   "source": "Crop image segments and create updated bbox csv",
   "id": "2283eaee73c85ff0"
  },
  {
   "metadata": {},
   "cell_type": "code",
   "source": [
    "og_bbox_df = read_in_csv(top_dir=bbox_seg_df_dir)\n",
    "big_df = pros(img_dir=top_img_seg_dir, og_bbox_df=og_bbox_df, save_as_dir=save_as_dir, save_as_csv=save_as_csv)"
   ],
   "id": "46fe4c79c6c2951c",
   "outputs": [],
   "execution_count": null
  },
  {
   "metadata": {},
   "cell_type": "markdown",
   "source": "Remove crops and their bbox rows where the image is blank",
   "id": "3792eb53a146b140"
  },
  {
   "metadata": {
    "ExecuteTime": {
     "end_time": "2025-08-17T16:55:52.386447Z",
     "start_time": "2025-08-17T16:55:52.312248Z"
    }
   },
   "cell_type": "code",
   "source": [
    "crop_names = get_filepaths(dir_name=save_as_dir)\n",
    "df = pd.read_csv(\"../data/annotations/all_crop_bbox_annotations.csv\")\n",
    "df = df[df.image_path.isin(crop_names)]\n",
    "df.to_csv(save_as_csv, index=False)"
   ],
   "id": "b562205dac5d2077",
   "outputs": [],
   "execution_count": 3
  }
 ],
 "metadata": {
  "kernelspec": {
   "display_name": "Python 3",
   "language": "python",
   "name": "python3"
  },
  "language_info": {
   "codemirror_mode": {
    "name": "ipython",
    "version": 2
   },
   "file_extension": ".py",
   "mimetype": "text/x-python",
   "name": "python",
   "nbconvert_exporter": "python",
   "pygments_lexer": "ipython2",
   "version": "2.7.6"
  }
 },
 "nbformat": 4,
 "nbformat_minor": 5
}
