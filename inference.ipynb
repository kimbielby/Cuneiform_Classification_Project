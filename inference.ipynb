{
 "cells": [
  {
   "cell_type": "code",
   "id": "initial_id",
   "metadata": {
    "collapsed": true
   },
   "source": [
    "import cv2\n",
    "import matplotlib.pyplot as plt\n",
    "import inference as inf\n",
    "import pandas as pd\n",
    "import torch\n",
    "from pathlib import Path\n",
    "from configs.config import load_config\n",
    "from preprocessing.dataset_split import _resolve_allowlist\n",
    "from models import model as model_mod\n"
   ],
   "outputs": [],
   "execution_count": null
  },
  {
   "metadata": {},
   "cell_type": "markdown",
   "source": "Config",
   "id": "ccee84f938f5a2c2"
  },
  {
   "metadata": {},
   "cell_type": "code",
   "source": "config = load_config(\"configs/default.yaml\")\n",
   "id": "55f0432b35704a8b",
   "outputs": [],
   "execution_count": null
  },
  {
   "metadata": {},
   "cell_type": "markdown",
   "source": "Paths",
   "id": "ed92c98b4b822c14"
  },
  {
   "metadata": {},
   "cell_type": "code",
   "source": [
    "image_name = \"P333952_7_1536_256.jpg\"\n",
    "base_name = Path(image_name).stem\n",
    "image_path = config.paths.images_root / image_name\n",
    "cropped_annotations_path = config.paths.csv_annot\n",
    "best_checkpoint_path = Path(\"runs/20250913-182536/best_map50.pth\")"
   ],
   "id": "d4104c9af9ff9b4b",
   "outputs": [],
   "execution_count": null
  },
  {
   "metadata": {},
   "cell_type": "markdown",
   "source": "Device",
   "id": "f65ea5a0ab131213"
  },
  {
   "metadata": {},
   "cell_type": "code",
   "source": [
    "if torch.cuda.is_available():\n",
    "    device = torch.device(\"cuda\")\n",
    "else: device = torch.device(\"cpu\")"
   ],
   "id": "479f16461610588",
   "outputs": [],
   "execution_count": null
  },
  {
   "metadata": {},
   "cell_type": "markdown",
   "source": "Annotations df",
   "id": "2c3a867c726b435b"
  },
  {
   "metadata": {},
   "cell_type": "code",
   "source": [
    "df = pd.read_csv(cropped_annotations_path)\n",
    "image_gt = df[df.image_path == image_path.name].copy()"
   ],
   "id": "e0f639b7c1468357",
   "outputs": [],
   "execution_count": null
  },
  {
   "metadata": {},
   "cell_type": "markdown",
   "source": "Class names",
   "id": "c7488d36707cb98f"
  },
  {
   "metadata": {},
   "cell_type": "code",
   "source": [
    "allow = _resolve_allowlist(config=config)\n",
    "class_names = [str(x) for x in allow]\n",
    "if config.dataset.include_other_class:\n",
    "    class_names.append(config.dataset.other_class_name)\n",
    "num_classes = len(class_names)"
   ],
   "id": "def721904b8ab13c",
   "outputs": [],
   "execution_count": null
  },
  {
   "metadata": {},
   "cell_type": "markdown",
   "source": "Create model",
   "id": "7a6ddeaab8db930a"
  },
  {
   "metadata": {},
   "cell_type": "code",
   "source": [
    "model = model_mod.build_model(\n",
    "    num_classes=num_classes,\n",
    "    anchor_sizes=config.model.anchor_sizes,\n",
    "    aspect_ratios=config.model.aspect_ratios,\n",
    "    score_thresh=config.model.score_thresh,\n",
    "    nms_thresh=config.model.nms_thresh,\n",
    "    detections_per_img=config.model.detections_per_img,\n",
    "    imagenet_weights=config.model.use_imagenet_weights\n",
    ")"
   ],
   "id": "d5d42524ef1abc3e",
   "outputs": [],
   "execution_count": null
  },
  {
   "metadata": {},
   "cell_type": "code",
   "source": "model = inf.load_model_from_ckpt(path=best_checkpoint_path, model=model, device=device)",
   "id": "a2a14aa199f51ccb",
   "outputs": [],
   "execution_count": null
  },
  {
   "metadata": {},
   "cell_type": "markdown",
   "source": "Infer",
   "id": "7c5f54a7ca31456"
  },
  {
   "metadata": {},
   "cell_type": "code",
   "source": [
    "metrics, preds_eval, out_path, im_bgr = inf.eval_one_image(\n",
    "    model=model,\n",
    "    image_path=str(image_path),\n",
    "    gt_df_for_image=image_gt,\n",
    "    class_names=class_names,\n",
    "    images_root=config.paths.images_root,\n",
    "    device=device,\n",
    "    score_thresh=model.score_thresh,\n",
    "    iou_thr=0.5,\n",
    "    out_path=f\"./outputs/{base_name}_overlay.png\"\n",
    ")\n",
    "\n",
    "print(metrics)"
   ],
   "id": "a3f9cd45b90227fb",
   "outputs": [],
   "execution_count": null
  },
  {
   "metadata": {},
   "cell_type": "markdown",
   "source": "Visuals",
   "id": "7fc4f695ab105990"
  },
  {
   "metadata": {},
   "cell_type": "code",
   "source": [
    "plt.figure(figsize=(6, 6))\n",
    "plt.imshow(cv2.cvtColor(im_bgr, cv2.COLOR_BGR2RGB))\n",
    "plt.axis('off')\n",
    "plt.show()"
   ],
   "id": "a2722192ed83bb89",
   "outputs": [],
   "execution_count": null
  }
 ],
 "metadata": {
  "kernelspec": {
   "display_name": "Python 3",
   "language": "python",
   "name": "python3"
  },
  "language_info": {
   "codemirror_mode": {
    "name": "ipython",
    "version": 2
   },
   "file_extension": ".py",
   "mimetype": "text/x-python",
   "name": "python",
   "nbconvert_exporter": "python",
   "pygments_lexer": "ipython2",
   "version": "2.7.6"
  }
 },
 "nbformat": 4,
 "nbformat_minor": 5
}
